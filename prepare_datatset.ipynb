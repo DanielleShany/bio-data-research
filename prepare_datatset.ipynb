{
 "cells": [
  {
   "cell_type": "code",
   "execution_count": 13,
   "id": "039cecc9-d9f9-4b48-a465-04f79a11bde5",
   "metadata": {},
   "outputs": [],
   "source": [
    "import pandas as pd\n",
    "import numpy as np\n",
    "# Set max columns to None (display all)\n",
    "pd.set_option('display.max_columns', None)"
   ]
  },
  {
   "cell_type": "code",
   "execution_count": 14,
   "id": "5bb0ac18-7d97-4987-b623-d1ae840ae67a",
   "metadata": {},
   "outputs": [],
   "source": [
    "df = pd.read_csv('datasets/apoa_dataset_all_statins.csv')"
   ]
  },
  {
   "cell_type": "code",
   "execution_count": 15,
   "id": "b99d0e85-def4-4e71-9cc7-f4fb34efc5d0",
   "metadata": {},
   "outputs": [
    {
     "data": {
      "text/plain": [
       "eid                      0\n",
       "apoA                 74970\n",
       "Pack years           78014\n",
       "Gender                   0\n",
       "Smoking                893\n",
       "BMI                   3107\n",
       "Age                      3\n",
       "SBP                  30117\n",
       "DBP                  30112\n",
       "Total cholesterol    32904\n",
       "HDL cholesterol      72610\n",
       "Triglycerides        33279\n",
       "Walking activity       880\n",
       "Moderate activity      880\n",
       "CRP                  33925\n",
       "LDL cholesterol      33787\n",
       "statin use               0\n",
       "dtype: int64"
      ]
     },
     "execution_count": 15,
     "metadata": {},
     "output_type": "execute_result"
    }
   ],
   "source": [
    "df.isnull().sum()"
   ]
  },
  {
   "cell_type": "code",
   "execution_count": 16,
   "id": "e5095968-b319-41e0-9b7e-9236fd938be5",
   "metadata": {},
   "outputs": [],
   "source": [
    "#drop all rows with null values in these columns\n",
    "df.dropna(subset=['LDL cholesterol', 'CRP', 'Triglycerides', 'HDL cholesterol'], inplace=True)"
   ]
  },
  {
   "cell_type": "code",
   "execution_count": 17,
   "id": "63a24861-4836-40f8-a52e-27e631a4ba13",
   "metadata": {},
   "outputs": [
    {
     "data": {
      "text/plain": [
       "eid                      0\n",
       "apoA                  2510\n",
       "Pack years           65606\n",
       "Gender                   0\n",
       "Smoking                450\n",
       "BMI                   1722\n",
       "Age                      0\n",
       "SBP                  24195\n",
       "DBP                  24191\n",
       "Total cholesterol       55\n",
       "HDL cholesterol          0\n",
       "Triglycerides            0\n",
       "Walking activity       447\n",
       "Moderate activity      447\n",
       "CRP                      0\n",
       "LDL cholesterol          0\n",
       "statin use               0\n",
       "dtype: int64"
      ]
     },
     "execution_count": 17,
     "metadata": {},
     "output_type": "execute_result"
    }
   ],
   "source": [
    "df.isnull().sum()"
   ]
  },
  {
   "cell_type": "code",
   "execution_count": 18,
   "id": "2734f75b-f71a-41b3-86cd-af48304fa46d",
   "metadata": {},
   "outputs": [],
   "source": [
    "df2 = pd.read_csv('datasets/blood_markers.csv')"
   ]
  },
  {
   "cell_type": "code",
   "execution_count": 19,
   "id": "74a428e0-9479-4de8-abc1-01ff72b34896",
   "metadata": {},
   "outputs": [
    {
     "data": {
      "text/plain": [
       "Index(['Unnamed: 0', 'eid', 'Albumin', 'ALP', 'ALT', 'AST', 'GGT',\n",
       "       'Total_bilirubin', 'Diabetes', 'Glycated_haemoglobin',\n",
       "       'body_fat_precentage', 'Platelet_count', 'Apolipoprotein_B', 'Glucose',\n",
       "       'IGF-1', 'Urate'],\n",
       "      dtype='object')"
      ]
     },
     "execution_count": 19,
     "metadata": {},
     "output_type": "execute_result"
    }
   ],
   "source": [
    "df2.columns"
   ]
  },
  {
   "cell_type": "code",
   "execution_count": 20,
   "id": "1f9b9966-61cb-4402-ba03-e00e71781478",
   "metadata": {},
   "outputs": [
    {
     "data": {
      "text/plain": [
       "Index(['eid', 'apoA', 'Pack years', 'Gender', 'Smoking', 'BMI', 'Age', 'SBP',\n",
       "       'DBP', 'Total cholesterol', 'HDL cholesterol', 'Triglycerides',\n",
       "       'Walking activity', 'Moderate activity', 'CRP', 'LDL cholesterol',\n",
       "       'statin use'],\n",
       "      dtype='object')"
      ]
     },
     "execution_count": 20,
     "metadata": {},
     "output_type": "execute_result"
    }
   ],
   "source": [
    "df.columns"
   ]
  },
  {
   "cell_type": "code",
   "execution_count": 21,
   "id": "3c6dca61-948b-446e-938b-f2e0ee0b8b77",
   "metadata": {},
   "outputs": [],
   "source": [
    "new_df = df2[['eid', 'Albumin', 'ALP', 'ALT', 'AST', 'GGT', \n",
    "              'Total_bilirubin', 'Diabetes', 'Glycated_haemoglobin', \n",
    "             'Glucose', 'Urate', 'Platelet_count', 'Apolipoprotein_B', 'body_fat_precentage']].copy()"
   ]
  },
  {
   "cell_type": "code",
   "execution_count": 22,
   "id": "4aa32745-cf25-4192-ba23-f339e5f90a1d",
   "metadata": {},
   "outputs": [],
   "source": [
    "df = pd.merge(df, new_df, on='eid', how='left')"
   ]
  },
  {
   "cell_type": "code",
   "execution_count": 23,
   "id": "51b6c907-b731-4f17-8fac-1641bdf33753",
   "metadata": {},
   "outputs": [
    {
     "data": {
      "text/plain": [
       "Index(['eid', 'apoA', 'Pack years', 'Gender', 'Smoking', 'BMI', 'Age', 'SBP',\n",
       "       'DBP', 'Total cholesterol', 'HDL cholesterol', 'Triglycerides',\n",
       "       'Walking activity', 'Moderate activity', 'CRP', 'LDL cholesterol',\n",
       "       'statin use', 'Albumin', 'ALP', 'ALT', 'AST', 'GGT', 'Total_bilirubin',\n",
       "       'Diabetes', 'Glycated_haemoglobin', 'Glucose', 'Urate',\n",
       "       'Platelet_count', 'Apolipoprotein_B', 'body_fat_precentage'],\n",
       "      dtype='object')"
      ]
     },
     "execution_count": 23,
     "metadata": {},
     "output_type": "execute_result"
    }
   ],
   "source": [
    "df.columns"
   ]
  },
  {
   "cell_type": "code",
   "execution_count": 24,
   "id": "0894c061-6d4f-4312-98c2-62fb1556a770",
   "metadata": {},
   "outputs": [
    {
     "data": {
      "text/html": [
       "<div>\n",
       "<style scoped>\n",
       "    .dataframe tbody tr th:only-of-type {\n",
       "        vertical-align: middle;\n",
       "    }\n",
       "\n",
       "    .dataframe tbody tr th {\n",
       "        vertical-align: top;\n",
       "    }\n",
       "\n",
       "    .dataframe thead th {\n",
       "        text-align: right;\n",
       "    }\n",
       "</style>\n",
       "<table border=\"1\" class=\"dataframe\">\n",
       "  <thead>\n",
       "    <tr style=\"text-align: right;\">\n",
       "      <th></th>\n",
       "      <th>eid</th>\n",
       "      <th>apoA</th>\n",
       "      <th>Pack years</th>\n",
       "      <th>Gender</th>\n",
       "      <th>Smoking</th>\n",
       "      <th>BMI</th>\n",
       "      <th>Age</th>\n",
       "      <th>SBP</th>\n",
       "      <th>DBP</th>\n",
       "      <th>Total cholesterol</th>\n",
       "      <th>HDL cholesterol</th>\n",
       "      <th>Triglycerides</th>\n",
       "      <th>Walking activity</th>\n",
       "      <th>Moderate activity</th>\n",
       "      <th>CRP</th>\n",
       "      <th>LDL cholesterol</th>\n",
       "      <th>statin use</th>\n",
       "      <th>Albumin</th>\n",
       "      <th>ALP</th>\n",
       "      <th>ALT</th>\n",
       "      <th>AST</th>\n",
       "      <th>GGT</th>\n",
       "      <th>Total_bilirubin</th>\n",
       "      <th>Diabetes</th>\n",
       "      <th>Glycated_haemoglobin</th>\n",
       "      <th>Glucose</th>\n",
       "      <th>Urate</th>\n",
       "      <th>Platelet_count</th>\n",
       "      <th>Apolipoprotein_B</th>\n",
       "      <th>body_fat_precentage</th>\n",
       "    </tr>\n",
       "  </thead>\n",
       "  <tbody>\n",
       "    <tr>\n",
       "      <th>count</th>\n",
       "      <td>4.278990e+05</td>\n",
       "      <td>425389.000000</td>\n",
       "      <td>362293.000000</td>\n",
       "      <td>427899.000000</td>\n",
       "      <td>427449.000000</td>\n",
       "      <td>426177.000000</td>\n",
       "      <td>427899.000000</td>\n",
       "      <td>403704.000000</td>\n",
       "      <td>403708.000000</td>\n",
       "      <td>427844.000000</td>\n",
       "      <td>427899.000000</td>\n",
       "      <td>427899.000000</td>\n",
       "      <td>427452.000000</td>\n",
       "      <td>427452.000000</td>\n",
       "      <td>427899.000000</td>\n",
       "      <td>427899.000000</td>\n",
       "      <td>427899.000000</td>\n",
       "      <td>425876.000000</td>\n",
       "      <td>425970.000000</td>\n",
       "      <td>425944.000000</td>\n",
       "      <td>424477.000000</td>\n",
       "      <td>425808.000000</td>\n",
       "      <td>424444.000000</td>\n",
       "      <td>426025.000000</td>\n",
       "      <td>403975.000000</td>\n",
       "      <td>425631.000000</td>\n",
       "      <td>425547.000000</td>\n",
       "      <td>415122.000000</td>\n",
       "      <td>424040.000000</td>\n",
       "      <td>418248.000000</td>\n",
       "    </tr>\n",
       "    <tr>\n",
       "      <th>mean</th>\n",
       "      <td>3.510407e+06</td>\n",
       "      <td>1.537991</td>\n",
       "      <td>8.350445</td>\n",
       "      <td>0.461525</td>\n",
       "      <td>0.544781</td>\n",
       "      <td>27.434277</td>\n",
       "      <td>56.550964</td>\n",
       "      <td>137.882302</td>\n",
       "      <td>82.263648</td>\n",
       "      <td>5.692775</td>\n",
       "      <td>1.448206</td>\n",
       "      <td>1.745373</td>\n",
       "      <td>3.379481</td>\n",
       "      <td>1.675730</td>\n",
       "      <td>2.608625</td>\n",
       "      <td>3.559330</td>\n",
       "      <td>0.151461</td>\n",
       "      <td>45.212322</td>\n",
       "      <td>83.590525</td>\n",
       "      <td>23.530259</td>\n",
       "      <td>26.224691</td>\n",
       "      <td>37.486655</td>\n",
       "      <td>9.122403</td>\n",
       "      <td>0.052363</td>\n",
       "      <td>36.108174</td>\n",
       "      <td>5.122255</td>\n",
       "      <td>309.329625</td>\n",
       "      <td>252.995733</td>\n",
       "      <td>1.031677</td>\n",
       "      <td>31.383497</td>\n",
       "    </tr>\n",
       "    <tr>\n",
       "      <th>std</th>\n",
       "      <td>1.450193e+06</td>\n",
       "      <td>0.270473</td>\n",
       "      <td>15.841962</td>\n",
       "      <td>0.498518</td>\n",
       "      <td>0.712520</td>\n",
       "      <td>4.783935</td>\n",
       "      <td>8.091451</td>\n",
       "      <td>18.637501</td>\n",
       "      <td>10.144083</td>\n",
       "      <td>1.143640</td>\n",
       "      <td>0.382063</td>\n",
       "      <td>1.018782</td>\n",
       "      <td>2.512043</td>\n",
       "      <td>2.040582</td>\n",
       "      <td>4.360925</td>\n",
       "      <td>0.869721</td>\n",
       "      <td>0.358498</td>\n",
       "      <td>2.623499</td>\n",
       "      <td>26.246008</td>\n",
       "      <td>14.145794</td>\n",
       "      <td>10.649753</td>\n",
       "      <td>41.999712</td>\n",
       "      <td>4.390958</td>\n",
       "      <td>0.222758</td>\n",
       "      <td>6.731617</td>\n",
       "      <td>1.235413</td>\n",
       "      <td>80.342133</td>\n",
       "      <td>59.953088</td>\n",
       "      <td>0.238079</td>\n",
       "      <td>8.533136</td>\n",
       "    </tr>\n",
       "    <tr>\n",
       "      <th>min</th>\n",
       "      <td>1.000013e+06</td>\n",
       "      <td>0.420000</td>\n",
       "      <td>0.000000</td>\n",
       "      <td>0.000000</td>\n",
       "      <td>-3.000000</td>\n",
       "      <td>12.121200</td>\n",
       "      <td>37.000000</td>\n",
       "      <td>65.000000</td>\n",
       "      <td>32.000000</td>\n",
       "      <td>1.498000</td>\n",
       "      <td>0.219000</td>\n",
       "      <td>0.231000</td>\n",
       "      <td>-3.000000</td>\n",
       "      <td>-3.000000</td>\n",
       "      <td>0.080000</td>\n",
       "      <td>0.276000</td>\n",
       "      <td>0.000000</td>\n",
       "      <td>17.380000</td>\n",
       "      <td>8.000000</td>\n",
       "      <td>3.010000</td>\n",
       "      <td>4.100000</td>\n",
       "      <td>5.000000</td>\n",
       "      <td>1.080000</td>\n",
       "      <td>0.000000</td>\n",
       "      <td>15.000000</td>\n",
       "      <td>0.995000</td>\n",
       "      <td>89.100000</td>\n",
       "      <td>0.300000</td>\n",
       "      <td>0.400000</td>\n",
       "      <td>5.000000</td>\n",
       "    </tr>\n",
       "    <tr>\n",
       "      <th>25%</th>\n",
       "      <td>2.254112e+06</td>\n",
       "      <td>1.346000</td>\n",
       "      <td>0.000000</td>\n",
       "      <td>0.000000</td>\n",
       "      <td>0.000000</td>\n",
       "      <td>24.157200</td>\n",
       "      <td>50.000000</td>\n",
       "      <td>124.500000</td>\n",
       "      <td>75.000000</td>\n",
       "      <td>4.907000</td>\n",
       "      <td>1.171000</td>\n",
       "      <td>1.046000</td>\n",
       "      <td>2.000000</td>\n",
       "      <td>0.000000</td>\n",
       "      <td>0.660000</td>\n",
       "      <td>2.946000</td>\n",
       "      <td>0.000000</td>\n",
       "      <td>43.490000</td>\n",
       "      <td>67.200000</td>\n",
       "      <td>15.400000</td>\n",
       "      <td>21.000000</td>\n",
       "      <td>18.600000</td>\n",
       "      <td>6.420000</td>\n",
       "      <td>0.000000</td>\n",
       "      <td>32.800000</td>\n",
       "      <td>4.600000</td>\n",
       "      <td>250.700000</td>\n",
       "      <td>213.200000</td>\n",
       "      <td>0.863000</td>\n",
       "      <td>25.100000</td>\n",
       "    </tr>\n",
       "    <tr>\n",
       "      <th>50%</th>\n",
       "      <td>3.509850e+06</td>\n",
       "      <td>1.511000</td>\n",
       "      <td>0.000000</td>\n",
       "      <td>0.000000</td>\n",
       "      <td>0.000000</td>\n",
       "      <td>26.750300</td>\n",
       "      <td>58.000000</td>\n",
       "      <td>136.500000</td>\n",
       "      <td>82.000000</td>\n",
       "      <td>5.651000</td>\n",
       "      <td>1.398000</td>\n",
       "      <td>1.484000</td>\n",
       "      <td>3.000000</td>\n",
       "      <td>1.000000</td>\n",
       "      <td>1.340000</td>\n",
       "      <td>3.519000</td>\n",
       "      <td>0.000000</td>\n",
       "      <td>45.200000</td>\n",
       "      <td>80.300000</td>\n",
       "      <td>20.120000</td>\n",
       "      <td>24.400000</td>\n",
       "      <td>26.400000</td>\n",
       "      <td>8.070000</td>\n",
       "      <td>0.000000</td>\n",
       "      <td>35.200000</td>\n",
       "      <td>4.929000</td>\n",
       "      <td>303.200000</td>\n",
       "      <td>248.000000</td>\n",
       "      <td>1.016000</td>\n",
       "      <td>31.000000</td>\n",
       "    </tr>\n",
       "    <tr>\n",
       "      <th>75%</th>\n",
       "      <td>4.765710e+06</td>\n",
       "      <td>1.697000</td>\n",
       "      <td>11.500000</td>\n",
       "      <td>1.000000</td>\n",
       "      <td>1.000000</td>\n",
       "      <td>29.904300</td>\n",
       "      <td>63.000000</td>\n",
       "      <td>149.500000</td>\n",
       "      <td>89.000000</td>\n",
       "      <td>6.424000</td>\n",
       "      <td>1.674000</td>\n",
       "      <td>2.148000</td>\n",
       "      <td>5.000000</td>\n",
       "      <td>3.000000</td>\n",
       "      <td>2.780000</td>\n",
       "      <td>4.120000</td>\n",
       "      <td>0.000000</td>\n",
       "      <td>46.920000</td>\n",
       "      <td>95.800000</td>\n",
       "      <td>27.390000</td>\n",
       "      <td>28.800000</td>\n",
       "      <td>41.100000</td>\n",
       "      <td>10.420000</td>\n",
       "      <td>0.000000</td>\n",
       "      <td>37.900000</td>\n",
       "      <td>5.313000</td>\n",
       "      <td>361.000000</td>\n",
       "      <td>287.000000</td>\n",
       "      <td>1.182000</td>\n",
       "      <td>37.700000</td>\n",
       "    </tr>\n",
       "    <tr>\n",
       "      <th>max</th>\n",
       "      <td>6.024085e+06</td>\n",
       "      <td>2.500000</td>\n",
       "      <td>301.000000</td>\n",
       "      <td>1.000000</td>\n",
       "      <td>2.000000</td>\n",
       "      <td>74.683700</td>\n",
       "      <td>73.000000</td>\n",
       "      <td>268.000000</td>\n",
       "      <td>147.500000</td>\n",
       "      <td>15.460000</td>\n",
       "      <td>4.401000</td>\n",
       "      <td>11.278000</td>\n",
       "      <td>7.000000</td>\n",
       "      <td>7.000000</td>\n",
       "      <td>79.960000</td>\n",
       "      <td>9.797000</td>\n",
       "      <td>1.000000</td>\n",
       "      <td>59.800000</td>\n",
       "      <td>1416.700000</td>\n",
       "      <td>491.030000</td>\n",
       "      <td>947.200000</td>\n",
       "      <td>1184.900000</td>\n",
       "      <td>87.420000</td>\n",
       "      <td>1.000000</td>\n",
       "      <td>515.200000</td>\n",
       "      <td>36.813000</td>\n",
       "      <td>1067.500000</td>\n",
       "      <td>1821.000000</td>\n",
       "      <td>2.000000</td>\n",
       "      <td>69.800000</td>\n",
       "    </tr>\n",
       "  </tbody>\n",
       "</table>\n",
       "</div>"
      ],
      "text/plain": [
       "                eid           apoA     Pack years         Gender  \\\n",
       "count  4.278990e+05  425389.000000  362293.000000  427899.000000   \n",
       "mean   3.510407e+06       1.537991       8.350445       0.461525   \n",
       "std    1.450193e+06       0.270473      15.841962       0.498518   \n",
       "min    1.000013e+06       0.420000       0.000000       0.000000   \n",
       "25%    2.254112e+06       1.346000       0.000000       0.000000   \n",
       "50%    3.509850e+06       1.511000       0.000000       0.000000   \n",
       "75%    4.765710e+06       1.697000      11.500000       1.000000   \n",
       "max    6.024085e+06       2.500000     301.000000       1.000000   \n",
       "\n",
       "             Smoking            BMI            Age            SBP  \\\n",
       "count  427449.000000  426177.000000  427899.000000  403704.000000   \n",
       "mean        0.544781      27.434277      56.550964     137.882302   \n",
       "std         0.712520       4.783935       8.091451      18.637501   \n",
       "min        -3.000000      12.121200      37.000000      65.000000   \n",
       "25%         0.000000      24.157200      50.000000     124.500000   \n",
       "50%         0.000000      26.750300      58.000000     136.500000   \n",
       "75%         1.000000      29.904300      63.000000     149.500000   \n",
       "max         2.000000      74.683700      73.000000     268.000000   \n",
       "\n",
       "                 DBP  Total cholesterol  HDL cholesterol  Triglycerides  \\\n",
       "count  403708.000000      427844.000000    427899.000000  427899.000000   \n",
       "mean       82.263648           5.692775         1.448206       1.745373   \n",
       "std        10.144083           1.143640         0.382063       1.018782   \n",
       "min        32.000000           1.498000         0.219000       0.231000   \n",
       "25%        75.000000           4.907000         1.171000       1.046000   \n",
       "50%        82.000000           5.651000         1.398000       1.484000   \n",
       "75%        89.000000           6.424000         1.674000       2.148000   \n",
       "max       147.500000          15.460000         4.401000      11.278000   \n",
       "\n",
       "       Walking activity  Moderate activity            CRP  LDL cholesterol  \\\n",
       "count     427452.000000      427452.000000  427899.000000    427899.000000   \n",
       "mean           3.379481           1.675730       2.608625         3.559330   \n",
       "std            2.512043           2.040582       4.360925         0.869721   \n",
       "min           -3.000000          -3.000000       0.080000         0.276000   \n",
       "25%            2.000000           0.000000       0.660000         2.946000   \n",
       "50%            3.000000           1.000000       1.340000         3.519000   \n",
       "75%            5.000000           3.000000       2.780000         4.120000   \n",
       "max            7.000000           7.000000      79.960000         9.797000   \n",
       "\n",
       "          statin use        Albumin            ALP            ALT  \\\n",
       "count  427899.000000  425876.000000  425970.000000  425944.000000   \n",
       "mean        0.151461      45.212322      83.590525      23.530259   \n",
       "std         0.358498       2.623499      26.246008      14.145794   \n",
       "min         0.000000      17.380000       8.000000       3.010000   \n",
       "25%         0.000000      43.490000      67.200000      15.400000   \n",
       "50%         0.000000      45.200000      80.300000      20.120000   \n",
       "75%         0.000000      46.920000      95.800000      27.390000   \n",
       "max         1.000000      59.800000    1416.700000     491.030000   \n",
       "\n",
       "                 AST            GGT  Total_bilirubin       Diabetes  \\\n",
       "count  424477.000000  425808.000000    424444.000000  426025.000000   \n",
       "mean       26.224691      37.486655         9.122403       0.052363   \n",
       "std        10.649753      41.999712         4.390958       0.222758   \n",
       "min         4.100000       5.000000         1.080000       0.000000   \n",
       "25%        21.000000      18.600000         6.420000       0.000000   \n",
       "50%        24.400000      26.400000         8.070000       0.000000   \n",
       "75%        28.800000      41.100000        10.420000       0.000000   \n",
       "max       947.200000    1184.900000        87.420000       1.000000   \n",
       "\n",
       "       Glycated_haemoglobin        Glucose          Urate  Platelet_count  \\\n",
       "count         403975.000000  425631.000000  425547.000000   415122.000000   \n",
       "mean              36.108174       5.122255     309.329625      252.995733   \n",
       "std                6.731617       1.235413      80.342133       59.953088   \n",
       "min               15.000000       0.995000      89.100000        0.300000   \n",
       "25%               32.800000       4.600000     250.700000      213.200000   \n",
       "50%               35.200000       4.929000     303.200000      248.000000   \n",
       "75%               37.900000       5.313000     361.000000      287.000000   \n",
       "max              515.200000      36.813000    1067.500000     1821.000000   \n",
       "\n",
       "       Apolipoprotein_B  body_fat_precentage  \n",
       "count     424040.000000        418248.000000  \n",
       "mean           1.031677            31.383497  \n",
       "std            0.238079             8.533136  \n",
       "min            0.400000             5.000000  \n",
       "25%            0.863000            25.100000  \n",
       "50%            1.016000            31.000000  \n",
       "75%            1.182000            37.700000  \n",
       "max            2.000000            69.800000  "
      ]
     },
     "execution_count": 24,
     "metadata": {},
     "output_type": "execute_result"
    }
   ],
   "source": [
    "df.describe()"
   ]
  },
  {
   "cell_type": "code",
   "execution_count": 25,
   "id": "094c8d1d-5d36-4830-a4dd-1833315b4813",
   "metadata": {},
   "outputs": [
    {
     "data": {
      "text/plain": [
       "eid                         0\n",
       "apoA                     2510\n",
       "Pack years              65606\n",
       "Gender                      0\n",
       "Smoking                   450\n",
       "BMI                      1722\n",
       "Age                         0\n",
       "SBP                     24195\n",
       "DBP                     24191\n",
       "Total cholesterol          55\n",
       "HDL cholesterol             0\n",
       "Triglycerides               0\n",
       "Walking activity          447\n",
       "Moderate activity         447\n",
       "CRP                         0\n",
       "LDL cholesterol             0\n",
       "statin use                  0\n",
       "Albumin                  2023\n",
       "ALP                      1929\n",
       "ALT                      1955\n",
       "AST                      3422\n",
       "GGT                      2091\n",
       "Total_bilirubin          3455\n",
       "Diabetes                 1874\n",
       "Glycated_haemoglobin    23924\n",
       "Glucose                  2268\n",
       "Urate                    2352\n",
       "Platelet_count          12777\n",
       "Apolipoprotein_B         3859\n",
       "body_fat_precentage      9651\n",
       "dtype: int64"
      ]
     },
     "execution_count": 25,
     "metadata": {},
     "output_type": "execute_result"
    }
   ],
   "source": [
    "df.isnull().sum()"
   ]
  },
  {
   "cell_type": "markdown",
   "id": "b21e36b2",
   "metadata": {},
   "source": [
    "## Impute categorical columns"
   ]
  },
  {
   "cell_type": "code",
   "execution_count": 26,
   "id": "361130c1",
   "metadata": {},
   "outputs": [],
   "source": [
    "cat_cols = ['Walking activity', 'Moderate activity', 'Smoking',  ]  # add more if needed"
   ]
  },
  {
   "cell_type": "code",
   "execution_count": 27,
   "id": "d4e9d059",
   "metadata": {},
   "outputs": [],
   "source": [
    "#handle negative categorical values (choose not to answer, etc.)\n",
    "for col in cat_cols:\n",
    "    mode_val = df[col].mode().iloc[0]  # Get the mode (first if multiple)\n",
    "    df.loc[df[col] < 0, col] = mode_val"
   ]
  },
  {
   "cell_type": "code",
   "execution_count": 28,
   "id": "a9568681",
   "metadata": {},
   "outputs": [
    {
     "name": "stderr",
     "output_type": "stream",
     "text": [
      "C:\\Users\\ronra\\AppData\\Local\\Temp\\ipykernel_28996\\341235209.py:4: FutureWarning: A value is trying to be set on a copy of a DataFrame or Series through chained assignment using an inplace method.\n",
      "The behavior will change in pandas 3.0. This inplace method will never work because the intermediate object on which we are setting values always behaves as a copy.\n",
      "\n",
      "For example, when doing 'df[col].method(value, inplace=True)', try using 'df.method({col: value}, inplace=True)' or df[col] = df[col].method(value) instead, to perform the operation inplace on the original object.\n",
      "\n",
      "\n",
      "  df[col].fillna(mode_value, inplace=True)\n"
     ]
    }
   ],
   "source": [
    "#handle missing categorical values\n",
    "for col in cat_cols:\n",
    "    mode_value = df[col].mode().iloc[0]\n",
    "    df[col].fillna(mode_value, inplace=True)"
   ]
  },
  {
   "cell_type": "markdown",
   "id": "49ef98e2",
   "metadata": {},
   "source": [
    "## impute numerical columns"
   ]
  },
  {
   "cell_type": "code",
   "execution_count": 29,
   "id": "0fecd2ed-2d86-4e2c-b53f-5978b54ad1e1",
   "metadata": {},
   "outputs": [],
   "source": [
    "df.fillna(df.mean(numeric_only=True), inplace=True)"
   ]
  },
  {
   "cell_type": "code",
   "execution_count": 30,
   "id": "07a68c78-4d84-445e-b79e-43d44bfbb056",
   "metadata": {},
   "outputs": [
    {
     "data": {
      "text/plain": [
       "eid                     0\n",
       "apoA                    0\n",
       "Pack years              0\n",
       "Gender                  0\n",
       "Smoking                 0\n",
       "BMI                     0\n",
       "Age                     0\n",
       "SBP                     0\n",
       "DBP                     0\n",
       "Total cholesterol       0\n",
       "HDL cholesterol         0\n",
       "Triglycerides           0\n",
       "Walking activity        0\n",
       "Moderate activity       0\n",
       "CRP                     0\n",
       "LDL cholesterol         0\n",
       "statin use              0\n",
       "Albumin                 0\n",
       "ALP                     0\n",
       "ALT                     0\n",
       "AST                     0\n",
       "GGT                     0\n",
       "Total_bilirubin         0\n",
       "Diabetes                0\n",
       "Glycated_haemoglobin    0\n",
       "Glucose                 0\n",
       "Urate                   0\n",
       "Platelet_count          0\n",
       "Apolipoprotein_B        0\n",
       "body_fat_precentage     0\n",
       "dtype: int64"
      ]
     },
     "execution_count": 30,
     "metadata": {},
     "output_type": "execute_result"
    }
   ],
   "source": [
    "df.isnull().sum()"
   ]
  },
  {
   "cell_type": "code",
   "execution_count": 31,
   "id": "ee13b3a9-ee4a-4abe-846c-6194b7acb8c8",
   "metadata": {},
   "outputs": [
    {
     "data": {
      "text/plain": [
       "eid                     427899\n",
       "apoA                    427899\n",
       "Pack years              427899\n",
       "Gender                  427899\n",
       "Smoking                 427899\n",
       "BMI                     427899\n",
       "Age                     427899\n",
       "SBP                     427899\n",
       "DBP                     427899\n",
       "Total cholesterol       427899\n",
       "HDL cholesterol         427899\n",
       "Triglycerides           427899\n",
       "Walking activity        427899\n",
       "Moderate activity       427899\n",
       "CRP                     427899\n",
       "LDL cholesterol         427899\n",
       "statin use              427899\n",
       "Albumin                 427899\n",
       "ALP                     427899\n",
       "ALT                     427899\n",
       "AST                     427899\n",
       "GGT                     427899\n",
       "Total_bilirubin         427899\n",
       "Diabetes                427899\n",
       "Glycated_haemoglobin    427899\n",
       "Glucose                 427899\n",
       "Urate                   427899\n",
       "Platelet_count          427899\n",
       "Apolipoprotein_B        427899\n",
       "body_fat_precentage     427899\n",
       "dtype: int64"
      ]
     },
     "execution_count": 31,
     "metadata": {},
     "output_type": "execute_result"
    }
   ],
   "source": [
    "df.count()"
   ]
  },
  {
   "cell_type": "code",
   "execution_count": 32,
   "id": "181289c1-869b-4458-9533-ead59a30d04a",
   "metadata": {},
   "outputs": [],
   "source": [
    "df.to_csv('extended_dataset.csv', index=False)"
   ]
  },
  {
   "cell_type": "markdown",
   "id": "21038f79",
   "metadata": {},
   "source": [
    "## VIF analysis"
   ]
  },
  {
   "cell_type": "code",
   "execution_count": 37,
   "id": "d2a6fcb1",
   "metadata": {},
   "outputs": [],
   "source": [
    "features = df.drop('eid', axis=1)"
   ]
  },
  {
   "cell_type": "code",
   "execution_count": 35,
   "id": "932cbee1",
   "metadata": {},
   "outputs": [
    {
     "name": "stdout",
     "output_type": "stream",
     "text": [
      "Variance Inflation Factors:\n",
      "                Variable          VIF\n",
      "8      Total cholesterol  1877.060774\n",
      "14       LDL cholesterol  1155.998870\n",
      "27      Apolipoprotein_B   232.452462\n",
      "9        HDL cholesterol   206.755489\n",
      "0                   apoA   177.744603\n",
      "7                    DBP   157.525933\n",
      "16               Albumin   154.779120\n",
      "6                    SBP   140.422790\n",
      "4                    BMI   109.824937\n",
      "28   body_fat_precentage    83.403424\n",
      "5                    Age    67.246470\n",
      "23  Glycated_haemoglobin    62.271506\n",
      "24               Glucose    30.291217\n",
      "25                 Urate    27.191511\n",
      "26        Platelet_count    20.915314\n",
      "19                   AST    16.396872\n",
      "10         Triglycerides    14.087768\n",
      "17                   ALP    13.582876\n",
      "18                   ALT     9.737806\n",
      "2                 Gender     8.793950\n",
      "21       Total_bilirubin     6.237885\n",
      "11      Walking activity     4.261071\n",
      "3                Smoking     2.778621\n",
      "20                   GGT     2.633423\n",
      "1             Pack years     2.293857\n",
      "12     Moderate activity     2.227147\n",
      "15            statin use     1.718513\n",
      "22              Diabetes     1.703959\n",
      "13                   CRP     1.587224\n"
     ]
    }
   ],
   "source": [
    "from statsmodels.stats.outliers_influence import variance_inflation_factor\n",
    "\n",
    "def calculate_vif(df):\n",
    "    \"\"\"Calculate VIF for all numeric columns\"\"\"\n",
    "    # Select only numeric columns\n",
    "    numeric_df = df.select_dtypes(include=[np.number])\n",
    "    \n",
    "    # Calculate VIF for each variable\n",
    "    vif_data = pd.DataFrame()\n",
    "    vif_data[\"Variable\"] = numeric_df.columns\n",
    "    vif_data[\"VIF\"] = [variance_inflation_factor(numeric_df.values, i) \n",
    "                       for i in range(numeric_df.shape[1])]\n",
    "    \n",
    "    return vif_data.sort_values('VIF', ascending=False)\n",
    "\n",
    "# Calculate VIF\n",
    "vif_results = calculate_vif(features)\n",
    "print(\"Variance Inflation Factors:\")\n",
    "print(vif_results)"
   ]
  },
  {
   "cell_type": "code",
   "execution_count": 39,
   "id": "c4496482",
   "metadata": {},
   "outputs": [
    {
     "name": "stdout",
     "output_type": "stream",
     "text": [
      "DBP                     156.359882\n",
      "Albumin                 145.702427\n",
      "SBP                     140.041810\n",
      "Age                      62.875578\n",
      "Glycated_haemoglobin     62.090339\n",
      "BMI                      48.120754\n",
      "Glucose                  30.225188\n",
      "Urate                    26.916467\n",
      "HDL cholesterol          25.687487\n",
      "LDL cholesterol          25.378266\n",
      "dtype: float64\n"
     ]
    }
   ],
   "source": [
    "#reduce co linearity and increase clarity\n",
    "drop_cols = ['Apolipoprotein_B','apoA',\n",
    "             'body_fat_precentage', 'Moderate activity', 'Pack years', 'Total cholesterol']\n",
    "\n",
    "X_reduced = features.drop(columns=drop_cols)\n",
    "\n",
    "from statsmodels.stats.outliers_influence import variance_inflation_factor\n",
    "\n",
    "vif2 = pd.Series(\n",
    "    [variance_inflation_factor(X_reduced.values, i)\n",
    "     for i in range(X_reduced.shape[1])],\n",
    "    index=X_reduced.columns).sort_values(ascending=False)\n",
    "\n",
    "print(vif2.head(10))\n"
   ]
  },
  {
   "cell_type": "code",
   "execution_count": 40,
   "id": "58088323",
   "metadata": {},
   "outputs": [],
   "source": [
    "df_reduced = df.drop(columns=drop_cols)"
   ]
  },
  {
   "cell_type": "code",
   "execution_count": 41,
   "id": "aeac0d86",
   "metadata": {},
   "outputs": [],
   "source": [
    "df_reduced.to_csv('final_dataset.csv', index=False)"
   ]
  },
  {
   "cell_type": "code",
   "execution_count": null,
   "id": "565345ed",
   "metadata": {},
   "outputs": [],
   "source": []
  }
 ],
 "metadata": {
  "kernelspec": {
   "display_name": "Python 3 (ipykernel)",
   "language": "python",
   "name": "python3"
  },
  "language_info": {
   "codemirror_mode": {
    "name": "ipython",
    "version": 3
   },
   "file_extension": ".py",
   "mimetype": "text/x-python",
   "name": "python",
   "nbconvert_exporter": "python",
   "pygments_lexer": "ipython3",
   "version": "3.11.5"
  }
 },
 "nbformat": 4,
 "nbformat_minor": 5
}
